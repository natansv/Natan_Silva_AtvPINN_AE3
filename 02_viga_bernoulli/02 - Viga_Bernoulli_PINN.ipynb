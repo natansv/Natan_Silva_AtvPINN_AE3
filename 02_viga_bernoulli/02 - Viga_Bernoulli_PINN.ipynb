{
 "cells": [
  {
   "cell_type": "markdown",
   "id": "8f96e593",
   "metadata": {},
   "source": [
    "# Exercício 2 – Viga de Euler-Bernoulli com PINNs (DeepXDE)\n",
    "\n",
    "Este notebook resolve o problema de flexão de uma viga de Euler-Bernoulli utilizando Redes Neurais Informadas por Física (PINNs) com a biblioteca DeepXDE.\n",
    "\n",
    "## Configuração do Problema\n",
    "Selecionamos o **caso (b)**: viga **bi-apoiada** com carga distribuída \\( q(x) \\), conforme mostrado na Figura 2b do enunciado.\n",
    "\n",
    "A Equação Diferencial Ordinária (EDO) governante da viga de Euler-Bernoulli é:\n",
    "\n",
    "\\[\n",
    "EI \\frac{d^4 w(x)}{dx^4} = q(x)\n",
    "\\]\n",
    "\n",
    "Onde:\n",
    "- \\( w(x) \\) é o deslocamento transversal,\n",
    "- \\( E \\) é o módulo de elasticidade,\n",
    "- \\( I \\) é o momento de inércia da seção transversal,\n",
    "- \\( q(x) \\) é a carga distribuída (constante no caso b).\n",
    "\n",
    "As condições de contorno para a viga bi-apoiada são:\n",
    "\\[\n",
    "w(0) = w(L) = 0 \\quad \\text{(apoios simples)} \\\\\n",
    "\\frac{d^2w}{dx^2}(0) = \\frac{d^2w}{dx^2}(L) = 0 \\quad \\text{(momento nulo nos apoios)}\n",
    "\\]\n"
   ]
  },
  {
   "cell_type": "code",
   "execution_count": 1,
   "id": "b1779b1c",
   "metadata": {},
   "outputs": [
    {
     "name": "stderr",
     "output_type": "stream",
     "text": [
      "Using backend: pytorch\n",
      "Other supported backends: tensorflow.compat.v1, tensorflow, jax, paddle.\n",
      "paddle supports more examples now and is recommended.\n"
     ]
    }
   ],
   "source": [
    "import deepxde as dde\n",
    "import numpy as np\n",
    "import matplotlib.pyplot as plt\n"
   ]
  },
  {
   "cell_type": "markdown",
   "id": "28490aff",
   "metadata": {},
   "source": [
    "## Parâmetros do problema\n",
    "\n",
    "Vamos utilizar os seguintes parâmetros fornecidos no enunciado:\n",
    "\n",
    "- Comprimento \\( L = 6 \\) m\n",
    "- Módulo de Elasticidade \\( E = 21000 \\) kN/cm² = \\( 2.1 \\times 10^{11} \\) Pa\n",
    "- Momento de inércia \\( I = 22500 \\) cm⁴ = \\( 2.25 \\times 10^{-6} \\) m⁴\n",
    "- Carga \\( q = 2 \\) kN/m = \\( 2000 \\) N/m\n"
   ]
  },
  {
   "cell_type": "code",
   "execution_count": 2,
   "id": "2b220ee2",
   "metadata": {},
   "outputs": [],
   "source": [
    "# Parâmetros físicos\n",
    "L = 6.0  # metros\n",
    "E = 2.1e11  # Pa\n",
    "I = 2.25e-6  # m^4\n",
    "q = 2000  # N/m\n",
    "EI = E * I\n"
   ]
  },
  {
   "cell_type": "markdown",
   "id": "315d1e8b",
   "metadata": {},
   "source": [
    "## Equação diferencial do problema\n",
    "\n",
    "A EDO que será resolvida é:\n",
    "\n",
    "\\[\n",
    "EI \\cdot w''''(x) = q\n",
    "\\]\n",
    "\n",
    "Vamos reescrevê-la para a forma padrão utilizada em PINNs:\n",
    "\\[\n",
    "w^{(4)}(x) = \\frac{q}{EI}\n",
    "\\]\n"
   ]
  },
  {
   "cell_type": "code",
   "execution_count": 3,
   "id": "bff07f2b",
   "metadata": {},
   "outputs": [],
   "source": [
    "#def pde(x, y):\n",
    "   #dy_xxxx = dde.grad.hessian(y, x, i=0, j=0)\n",
    "   #return dy_xxxx + q / EI\n",
    "def pde(x, y):\n",
    "    dy_x = dde.grad.jacobian(y, x, i=0, j=0)\n",
    "    dy_xx = dde.grad.jacobian(dy_x, x, i=0, j=0)\n",
    "    dy_xxx = dde.grad.jacobian(dy_xx, x, i=0, j=0)\n",
    "    dy_xxxx = dde.grad.jacobian(dy_xxx, x, i=0, j=0)\n",
    "    return dy_xxxx - q / EI\n",
    "\n"
   ]
  },
  {
   "cell_type": "markdown",
   "id": "75f26f2d",
   "metadata": {},
   "source": [
    "## Condições de contorno\n",
    "\n",
    "Para a viga bi-apoiada:\n",
    "- w(0) = 0\n",
    "- w(L) = 0\n",
    "- w''(0) = 0\n",
    "- w''(L) = 0\n"
   ]
  },
  {
   "cell_type": "code",
   "execution_count": 4,
   "id": "6cdaf826",
   "metadata": {},
   "outputs": [],
   "source": [
    "geom = dde.geometry.Interval(0, L)\n",
    "\n",
    "# Condições de Dirichlet\n",
    "bc1 = dde.DirichletBC(geom, lambda x: 0, lambda x, on_boundary: on_boundary and np.isclose(x[0], 0))\n",
    "bc2 = dde.DirichletBC(geom, lambda x: 0, lambda x, on_boundary: on_boundary and np.isclose(x[0], L))\n",
    "\n",
    "# Condições de segunda derivada (momento fletor nulo)\n",
    "def bc_moment(x, y, component):\n",
    "    dy_xx = dde.grad.hessian(y, x, i=0, j=0)\n",
    "    return dy_xx\n",
    "\n",
    "bc3 = dde.OperatorBC(geom, bc_moment, lambda x, on_boundary: on_boundary and np.isclose(x[0], 0))\n",
    "bc4 = dde.OperatorBC(geom, bc_moment, lambda x, on_boundary: on_boundary and np.isclose(x[0], L))\n"
   ]
  },
  {
   "cell_type": "code",
   "execution_count": 5,
   "id": "628c51b4",
   "metadata": {},
   "outputs": [
    {
     "name": "stdout",
     "output_type": "stream",
     "text": [
      "Compiling model...\n",
      "'compile' took 1.828997 s\n",
      "\n",
      "Warning: epochs is deprecated and will be removed in a future version. Use iterations instead.\n",
      "Training model...\n",
      "\n",
      "Step      Train loss                                            Test loss                                             Test metric\n",
      "0         [1.11e-02, 0.00e+00, 6.44e-02, 0.00e+00, 4.08e-05]    [1.11e-02, 0.00e+00, 6.44e-02, 0.00e+00, 4.08e-05]    []  \n",
      "1000      [9.73e-06, 2.29e-10, 1.58e-10, 1.81e-08, 7.53e-07]    [9.73e-06, 2.29e-10, 1.58e-10, 1.81e-08, 7.53e-07]    []  \n",
      "2000      [9.60e-06, 1.86e-10, 5.91e-09, 1.38e-08, 2.62e-07]    [9.60e-06, 1.86e-10, 5.91e-09, 1.38e-08, 2.62e-07]    []  \n",
      "3000      [9.45e-06, 2.87e-08, 6.04e-06, 2.37e-09, 2.73e-07]    [9.45e-06, 2.87e-08, 6.04e-06, 2.37e-09, 2.73e-07]    []  \n",
      "4000      [1.71e-05, 5.60e-06, 1.21e-03, 9.63e-08, 5.06e-09]    [1.71e-05, 5.60e-06, 1.21e-03, 9.63e-08, 5.06e-09]    []  \n",
      "5000      [9.22e-06, 2.11e-11, 1.32e-11, 1.12e-08, 1.84e-07]    [9.22e-06, 2.11e-11, 1.32e-11, 1.12e-08, 1.84e-07]    []  \n",
      "6000      [9.06e-06, 1.49e-11, 2.65e-10, 1.36e-08, 1.54e-07]    [9.06e-06, 1.49e-11, 2.65e-10, 1.36e-08, 1.54e-07]    []  \n",
      "7000      [8.68e-06, 3.78e-11, 1.21e-11, 1.28e-08, 1.42e-07]    [8.68e-06, 3.78e-11, 1.21e-11, 1.28e-08, 1.42e-07]    []  \n",
      "8000      [8.17e-06, 4.77e-10, 2.62e-07, 1.32e-08, 1.18e-07]    [8.17e-06, 4.77e-10, 2.62e-07, 1.32e-08, 1.18e-07]    []  \n",
      "9000      [6.60e-06, 9.35e-10, 3.47e-07, 1.22e-08, 9.59e-08]    [6.60e-06, 9.35e-10, 3.47e-07, 1.22e-08, 9.59e-08]    []  \n",
      "10000     [2.46e-06, 2.62e-10, 3.68e-09, 2.77e-08, 3.14e-08]    [2.46e-06, 2.62e-10, 3.68e-09, 2.77e-08, 3.14e-08]    []  \n",
      "\n",
      "Best model at step 10000:\n",
      "  train loss: 2.52e-06\n",
      "  test loss: 2.52e-06\n",
      "  test metric: []\n",
      "\n",
      "'train' took 135.104319 s\n",
      "\n"
     ]
    }
   ],
   "source": [
    "# Pontos internos e de contorno\n",
    "data = dde.data.PDE(\n",
    "    geom,\n",
    "    pde,\n",
    "    [bc1, bc2, bc3, bc4],\n",
    "    num_domain=100,\n",
    "    num_boundary=10,\n",
    ")\n",
    "\n",
    "# Estrutura da rede neural\n",
    "net = dde.maps.FNN([1] + [50] * 3 + [1], \"tanh\", \"Glorot normal\")\n",
    "\n",
    "model = dde.Model(data, net)\n",
    "\n",
    "# Otimização\n",
    "model.compile(\"adam\", lr=0.001)\n",
    "losshistory, train_state = model.train(epochs=10000)\n"
   ]
  },
  {
   "cell_type": "markdown",
   "id": "bfe718b6",
   "metadata": {},
   "source": [
    "## Comparação com a solução analítica\n",
    "\n",
    "A solução analítica para a viga bi-apoiada carregada uniformemente é:\n",
    "\n",
    "\\[\n",
    "w(x) = \\frac{q x (L^3 - 2Lx^2 + x^3)}{24 EI}\n",
    "\\]\n"
   ]
  },
  {
   "cell_type": "code",
   "execution_count": 6,
   "id": "62b5d5a1",
   "metadata": {},
   "outputs": [
    {
     "data": {
      "image/png": "[encoded data removed]",
      "text/plain": [
       "<Figure size 800x400 with 1 Axes>"
      ]
     },
     "metadata": {},
     "output_type": "display_data"
    }
   ],
   "source": [
    "# Solução analítica\n",
    "def w_analitico(x):\n",
    "    return (q * x * (L**3 - 2 * L * x**2 + x**3)) / (24 * EI)\n",
    "\n",
    "# Comparação\n",
    "x_plot = np.linspace(0, L, 100).reshape(-1, 1)\n",
    "y_pred = model.predict(x_plot)\n",
    "y_true = w_analitico(x_plot)\n",
    "\n",
    "plt.figure(figsize=(8, 4))\n",
    "plt.plot(x_plot, y_pred, label=\"PINN\", lw=2)\n",
    "plt.plot(x_plot, y_true, \"--\", label=\"Analítica\", lw=2)\n",
    "plt.xlabel(\"x [m]\")\n",
    "plt.ylabel(\"w(x) [m]\")\n",
    "plt.legend()\n",
    "plt.grid(True)\n",
    "plt.title(\"Comparação: PINN vs Analítica\")\n",
    "plt.savefig(\"../imagens/Viga_BiApoiada_PINN_vs_Analitico.png\", dpi=300)\n",
    "plt.show()\n"
   ]
  },
  {
   "cell_type": "markdown",
   "id": "3be0ed07",
   "metadata": {},
   "source": [
    "## Conclusão\n",
    "\n",
    "A solução obtida pela PINN apresentou boa aproximação à solução analítica para a viga bi-apoiada com carga distribuída. A estrutura da rede neural, quantidade de pontos e taxa de aprendizado foram suficientes para obter convergência adequada. \n",
    "\n",
    "A metodologia PINN se mostra promissora para problemas clássicos da engenharia estrutural.\n"
   ]
  }
 ],
 "metadata": {
  "kernelspec": {
   "display_name": "Python 3",
   "language": "python",
   "name": "python3"
  },
  "language_info": {
   "codemirror_mode": {
    "name": "ipython",
    "version": 3
   },
   "file_extension": ".py",
   "mimetype": "text/x-python",
   "name": "python",
   "nbconvert_exporter": "python",
   "pygments_lexer": "ipython3",
   "version": "3.12.3"
  }
 },
 "nbformat": 4,
 "nbformat_minor": 5
}
